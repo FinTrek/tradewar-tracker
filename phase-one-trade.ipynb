{
 "cells": [
  {
   "cell_type": "code",
   "execution_count": 1,
   "metadata": {},
   "outputs": [],
   "source": [
    "import pandas as pd             # data package\n",
    "import matplotlib.pyplot as plt # graphics \n",
    "import datetime as dt\n",
    "import numpy as np\n",
    "from census import Census # This is new...\n",
    "\n",
    "import requests, io             # internet and input tools  \n",
    "import zipfile as zf            # zip file tools \n",
    "import os  \n",
    "\n",
    "#import weightedcalcs as wc\n",
    "#import numpy as np\n",
    "\n",
    "import pyarrow as pa\n",
    "import pyarrow.parquet as pq"
   ]
  },
  {
   "cell_type": "code",
   "execution_count": null,
   "metadata": {},
   "outputs": [],
   "source": []
  },
  {
   "cell_type": "code",
   "execution_count": null,
   "metadata": {},
   "outputs": [],
   "source": []
  },
  {
   "cell_type": "code",
   "execution_count": 2,
   "metadata": {},
   "outputs": [],
   "source": [
    "trade_type = \"exports\"\n",
    "\n",
    "my_key = \"&key=34e40301bda77077e24c859c6c6c0b721ad73fc7\"\n",
    "# This is my key. I'm nice and I have it posted. If you will be doing more with this\n",
    "# please get your own key!"
   ]
  },
  {
   "cell_type": "code",
   "execution_count": 3,
   "metadata": {},
   "outputs": [],
   "source": [
    "def census_trade(url, trade_type, country, product_level):\n",
    "    \n",
    "    r = requests.get(url) \n",
    "    \n",
    "    print(r)\n",
    "    \n",
    "    df = pd.DataFrame(r.json()[1:]) # This then converts it to a dataframe\n",
    "    # Note that the first entry is the labels\n",
    "\n",
    "    df.columns = r.json()[0]\n",
    "\n",
    "    df.time = pd.to_datetime(df.time, format=\"%Y-%m\")\n",
    "    # This is so I can call this correctly...\n",
    "    \n",
    "    if trade_type == \"imports\":\n",
    "        \n",
    "        trade_label = country + \"_\" + trade_type\n",
    "        \n",
    "        df[trade_label] = df[\"CON_VAL_MO\"].astype(float)\n",
    "        \n",
    "        df[product_level] = df[\"I_COMMODITY\"].astype(str)\n",
    "        \n",
    "        df.drop([\"CON_VAL_MO\", \"I_COMMODITY\", \"COMM_LVL\"], axis = 1, inplace = True)\n",
    "        \n",
    "    if trade_type == \"exports\":\n",
    "    \n",
    "        trade_label = country + \"_\" + trade_type\n",
    "        \n",
    "        df[trade_label] = df[\"ALL_VAL_MO\"].astype(float)\n",
    "\n",
    "        df[product_level] = df[\"E_COMMODITY\"].astype(str)\n",
    "        \n",
    "        df.drop([\"ALL_VAL_MO\", \"E_COMMODITY\", \"COMM_LVL\"], axis = 1, inplace = True)\n",
    "    \n",
    "    return df"
   ]
  },
  {
   "cell_type": "code",
   "execution_count": 4,
   "metadata": {},
   "outputs": [
    {
     "name": "stdout",
     "output_type": "stream",
     "text": [
      "<Response [200]>\n"
     ]
    }
   ],
   "source": [
    "end_use = \"hs?get=E_COMMODITY,ALL_VAL_MO\"\n",
    "\n",
    "url = \"https://api.census.gov/data/timeseries/intltrade/exports/\" + end_use \n",
    "url = url + my_key + \"&time==from+2017-01\" + \"&COMM_LVL=HS4\"\n",
    "\n",
    "url = url + \"&CTY_CODE=5700\"\n",
    "\n",
    "df = census_trade(url, trade_type, \"china\", \"hs4\")\n",
    "\n",
    "###########################################################################\n",
    "\n",
    "#end_use = \"hs?get=E_COMMODITY,ALL_VAL_MO\"\n",
    "\n",
    "#url = \"https://api.census.gov/data/timeseries/intltrade/exports/\" + end_use \n",
    "#url = url + my_key + \"&time==from+2020-01\" + \"&COMM_LVL=HS4\"\n",
    "\n",
    "#url = url + \"&CTY_CODE=5700\"\n",
    "\n",
    "#df = df.append(census_trade(url, trade_type, \"china\", \"hs4\"))"
   ]
  },
  {
   "cell_type": "code",
   "execution_count": 5,
   "metadata": {},
   "outputs": [
    {
     "data": {
      "text/html": [
       "<div>\n",
       "<style scoped>\n",
       "    .dataframe tbody tr th:only-of-type {\n",
       "        vertical-align: middle;\n",
       "    }\n",
       "\n",
       "    .dataframe tbody tr th {\n",
       "        vertical-align: top;\n",
       "    }\n",
       "\n",
       "    .dataframe thead th {\n",
       "        text-align: right;\n",
       "    }\n",
       "</style>\n",
       "<table border=\"1\" class=\"dataframe\">\n",
       "  <thead>\n",
       "    <tr style=\"text-align: right;\">\n",
       "      <th></th>\n",
       "      <th>time</th>\n",
       "      <th>CTY_CODE</th>\n",
       "      <th>china_exports</th>\n",
       "      <th>hs4</th>\n",
       "    </tr>\n",
       "  </thead>\n",
       "  <tbody>\n",
       "    <tr>\n",
       "      <th>42504</th>\n",
       "      <td>2020-03-01</td>\n",
       "      <td>5700</td>\n",
       "      <td>515668.0</td>\n",
       "      <td>9028</td>\n",
       "    </tr>\n",
       "    <tr>\n",
       "      <th>42505</th>\n",
       "      <td>2020-03-01</td>\n",
       "      <td>5700</td>\n",
       "      <td>1134151.0</td>\n",
       "      <td>9029</td>\n",
       "    </tr>\n",
       "    <tr>\n",
       "      <th>42506</th>\n",
       "      <td>2020-03-01</td>\n",
       "      <td>5700</td>\n",
       "      <td>79625044.0</td>\n",
       "      <td>9030</td>\n",
       "    </tr>\n",
       "    <tr>\n",
       "      <th>42507</th>\n",
       "      <td>2020-03-01</td>\n",
       "      <td>5700</td>\n",
       "      <td>70801509.0</td>\n",
       "      <td>9031</td>\n",
       "    </tr>\n",
       "    <tr>\n",
       "      <th>42508</th>\n",
       "      <td>2020-03-01</td>\n",
       "      <td>5700</td>\n",
       "      <td>18000630.0</td>\n",
       "      <td>9032</td>\n",
       "    </tr>\n",
       "  </tbody>\n",
       "</table>\n",
       "</div>"
      ],
      "text/plain": [
       "            time CTY_CODE  china_exports   hs4\n",
       "42504 2020-03-01     5700       515668.0  9028\n",
       "42505 2020-03-01     5700      1134151.0  9029\n",
       "42506 2020-03-01     5700     79625044.0  9030\n",
       "42507 2020-03-01     5700     70801509.0  9031\n",
       "42508 2020-03-01     5700     18000630.0  9032"
      ]
     },
     "execution_count": 5,
     "metadata": {},
     "output_type": "execute_result"
    }
   ],
   "source": [
    "df.tail()"
   ]
  },
  {
   "cell_type": "code",
   "execution_count": 6,
   "metadata": {},
   "outputs": [],
   "source": [
    "dfproducts = pd.read_csv(\".\\\\data\"+ \"\\\\annex-6-1.csv\", dtype = {\"hs4\": str})"
   ]
  },
  {
   "cell_type": "code",
   "execution_count": 7,
   "metadata": {},
   "outputs": [],
   "source": [
    "df_phaseone = df.merge(dfproducts, left_on = \"hs4\", right_on = \"hs4\", how = \"left\", indicator = True)"
   ]
  },
  {
   "cell_type": "code",
   "execution_count": 8,
   "metadata": {},
   "outputs": [],
   "source": [
    "df_phaseone.high_catagory = df_phaseone.high_catagory.fillna(\"not in aggreement\")"
   ]
  },
  {
   "cell_type": "code",
   "execution_count": 9,
   "metadata": {},
   "outputs": [],
   "source": [
    "out_file = \".\\\\data\"+ \"\\\\phaseone-tradedata.parquet\"\n",
    "\n",
    "pq.write_table(pa.Table.from_pandas(df_phaseone), out_file)"
   ]
  },
  {
   "cell_type": "code",
   "execution_count": 10,
   "metadata": {},
   "outputs": [],
   "source": [
    "df_phaseone.set_index(\"time\", inplace = True)"
   ]
  },
  {
   "cell_type": "code",
   "execution_count": 11,
   "metadata": {},
   "outputs": [],
   "source": [
    "grp = df_phaseone.loc[\"2017\"].groupby(\"high_catagory\")\n",
    "\n",
    "benchmarks = grp.agg({\"china_exports\": \"sum\"})\n",
    "\n",
    "benchmarks.columns = [\"2017 Values\"]"
   ]
  },
  {
   "cell_type": "code",
   "execution_count": 12,
   "metadata": {},
   "outputs": [],
   "source": [
    "grp = df_phaseone.loc[\"2020\"].groupby(\"high_catagory\")\n",
    "\n",
    "current = grp.agg({\"china_exports\": \"sum\"})\n",
    "\n",
    "current.columns = [\"2020 Values\"]"
   ]
  },
  {
   "cell_type": "code",
   "execution_count": 13,
   "metadata": {},
   "outputs": [],
   "source": [
    "benchmarks = benchmarks.merge(current, left_index = True, right_index = True)"
   ]
  },
  {
   "cell_type": "code",
   "execution_count": 14,
   "metadata": {},
   "outputs": [],
   "source": [
    "benchmarks[\"Goals\"] = 32900000000\n",
    "\n",
    "benchmarks.iloc[1,2] = 12500000000\n",
    "\n",
    "benchmarks.iloc[2,2] = 18500000000\n",
    "\n",
    "benchmarks.iloc[3,2] = np.nan"
   ]
  },
  {
   "cell_type": "code",
   "execution_count": 16,
   "metadata": {},
   "outputs": [],
   "source": [
    "out_file = \".\\\\data\"+ \"\\\\phaseone-goals.parquet\"\n",
    "\n",
    "pq.write_table(pa.Table.from_pandas(benchmarks), out_file)"
   ]
  },
  {
   "cell_type": "code",
   "execution_count": 17,
   "metadata": {},
   "outputs": [
    {
     "data": {
      "text/html": [
       "<div>\n",
       "<style scoped>\n",
       "    .dataframe tbody tr th:only-of-type {\n",
       "        vertical-align: middle;\n",
       "    }\n",
       "\n",
       "    .dataframe tbody tr th {\n",
       "        vertical-align: top;\n",
       "    }\n",
       "\n",
       "    .dataframe thead th {\n",
       "        text-align: right;\n",
       "    }\n",
       "</style>\n",
       "<table border=\"1\" class=\"dataframe\">\n",
       "  <thead>\n",
       "    <tr style=\"text-align: right;\">\n",
       "      <th></th>\n",
       "      <th>2017 Values</th>\n",
       "      <th>2020 Values</th>\n",
       "      <th>Goals</th>\n",
       "    </tr>\n",
       "    <tr>\n",
       "      <th>high_catagory</th>\n",
       "      <th></th>\n",
       "      <th></th>\n",
       "      <th></th>\n",
       "    </tr>\n",
       "  </thead>\n",
       "  <tbody>\n",
       "    <tr>\n",
       "      <th>1. Manufactured Goods</th>\n",
       "      <td>5.023535e+10</td>\n",
       "      <td>1.088696e+10</td>\n",
       "      <td>3.290000e+10</td>\n",
       "    </tr>\n",
       "    <tr>\n",
       "      <th>2. Agriculture</th>\n",
       "      <td>2.125611e+10</td>\n",
       "      <td>3.177704e+09</td>\n",
       "      <td>1.250000e+10</td>\n",
       "    </tr>\n",
       "    <tr>\n",
       "      <th>3. Energy</th>\n",
       "      <td>1.592617e+10</td>\n",
       "      <td>8.891867e+08</td>\n",
       "      <td>1.850000e+10</td>\n",
       "    </tr>\n",
       "    <tr>\n",
       "      <th>not in aggreement</th>\n",
       "      <td>5.026658e+10</td>\n",
       "      <td>7.558639e+09</td>\n",
       "      <td>NaN</td>\n",
       "    </tr>\n",
       "  </tbody>\n",
       "</table>\n",
       "</div>"
      ],
      "text/plain": [
       "                        2017 Values   2020 Values         Goals\n",
       "high_catagory                                                  \n",
       "1. Manufactured Goods  5.023535e+10  1.088696e+10  3.290000e+10\n",
       "2. Agriculture         2.125611e+10  3.177704e+09  1.250000e+10\n",
       "3. Energy              1.592617e+10  8.891867e+08  1.850000e+10\n",
       "not in aggreement      5.026658e+10  7.558639e+09           NaN"
      ]
     },
     "execution_count": 17,
     "metadata": {},
     "output_type": "execute_result"
    }
   ],
   "source": [
    "benchmarks"
   ]
  },
  {
   "cell_type": "code",
   "execution_count": null,
   "metadata": {},
   "outputs": [],
   "source": []
  }
 ],
 "metadata": {
  "kernelspec": {
   "display_name": "Python 3",
   "language": "python",
   "name": "python3"
  },
  "language_info": {
   "codemirror_mode": {
    "name": "ipython",
    "version": 3
   },
   "file_extension": ".py",
   "mimetype": "text/x-python",
   "name": "python",
   "nbconvert_exporter": "python",
   "pygments_lexer": "ipython3",
   "version": "3.7.3"
  }
 },
 "nbformat": 4,
 "nbformat_minor": 4
}
