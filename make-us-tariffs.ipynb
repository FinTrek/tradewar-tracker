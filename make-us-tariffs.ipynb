{
 "cells": [
  {
   "cell_type": "code",
   "execution_count": 1,
   "metadata": {},
   "outputs": [],
   "source": [
    "import pandas as pd\n",
    "import datetime as dt"
   ]
  },
  {
   "cell_type": "markdown",
   "metadata": {},
   "source": [
    "## Constructing Section 301 US Tariffs on China\n",
    "\n",
    "### Tariff Actions\n",
    "\n",
    "The key source of the US tariffs on china is this document:\n",
    "\n",
    "[https://hts.usitc.gov/view/China%20Tariffs?release=2020HTSABasicB](https://hts.usitc.gov/view/China%20Tariffs?release=2020HTSABasicB)\n",
    "\n",
    "which is essentially a master document of HS codes effected by the 301 investigation. The key issue is how to map this information into somethig that we would understand. **Note** that this ``.pdf`` file can be easily converted into excell (if you have Adobe DC) by simply cliking export as and select the Excel format. The output is pretty clean and can then be read in by pandas"
   ]
  },
  {
   "cell_type": "code",
   "execution_count": 2,
   "metadata": {},
   "outputs": [],
   "source": [
    "file_path = \"./data/China-Tariffs.xlsx\""
   ]
  },
  {
   "cell_type": "code",
   "execution_count": 3,
   "metadata": {},
   "outputs": [],
   "source": [
    "df = pd.read_excel(file_path, skiprows = 6)"
   ]
  },
  {
   "cell_type": "code",
   "execution_count": 4,
   "metadata": {},
   "outputs": [
    {
     "data": {
      "text/html": [
       "<div>\n",
       "<style scoped>\n",
       "    .dataframe tbody tr th:only-of-type {\n",
       "        vertical-align: middle;\n",
       "    }\n",
       "\n",
       "    .dataframe tbody tr th {\n",
       "        vertical-align: top;\n",
       "    }\n",
       "\n",
       "    .dataframe thead th {\n",
       "        text-align: right;\n",
       "    }\n",
       "</style>\n",
       "<table border=\"1\" class=\"dataframe\">\n",
       "  <thead>\n",
       "    <tr style=\"text-align: right;\">\n",
       "      <th></th>\n",
       "      <th>hs8</th>\n",
       "      <th>Tariff_Action</th>\n",
       "    </tr>\n",
       "  </thead>\n",
       "  <tbody>\n",
       "    <tr>\n",
       "      <th>0</th>\n",
       "      <td>0101.21.00</td>\n",
       "      <td>9903.88.15</td>\n",
       "    </tr>\n",
       "    <tr>\n",
       "      <th>1</th>\n",
       "      <td>0101.29.00</td>\n",
       "      <td>9903.88.15</td>\n",
       "    </tr>\n",
       "    <tr>\n",
       "      <th>2</th>\n",
       "      <td>0101.30.00</td>\n",
       "      <td>9903.88.15</td>\n",
       "    </tr>\n",
       "    <tr>\n",
       "      <th>3</th>\n",
       "      <td>0101.90.30</td>\n",
       "      <td>9903.88.15</td>\n",
       "    </tr>\n",
       "    <tr>\n",
       "      <th>4</th>\n",
       "      <td>0101.90.40</td>\n",
       "      <td>9903.88.15</td>\n",
       "    </tr>\n",
       "  </tbody>\n",
       "</table>\n",
       "</div>"
      ],
      "text/plain": [
       "          hs8 Tariff_Action\n",
       "0  0101.21.00    9903.88.15\n",
       "1  0101.29.00    9903.88.15\n",
       "2  0101.30.00    9903.88.15\n",
       "3  0101.90.30    9903.88.15\n",
       "4  0101.90.40    9903.88.15"
      ]
     },
     "execution_count": 4,
     "metadata": {},
     "output_type": "execute_result"
    }
   ],
   "source": [
    "df.drop(labels = \"Unnamed: 2\", axis = 1, inplace = True)\n",
    "\n",
    "df.columns = [\"hs8\", \"Tariff_Action\"]\n",
    "\n",
    "df = df[df.hs8.str.contains(\"Harmonized Tariff Schedule 8-digit Subheading\")==False]\n",
    "\n",
    "df = df[df.hs8.str.contains(\"Harmonized Tariff Schedule 10-digit Number\")==False]\n",
    "\n",
    "df = df[~df.Tariff_Action.isnull()]\n",
    "\n",
    "df.head()"
   ]
  },
  {
   "cell_type": "code",
   "execution_count": 5,
   "metadata": {},
   "outputs": [],
   "source": [
    "tariff_dict = dict(zip(list(df.Tariff_Action.unique()),[0,0,0,0,0,0]))"
   ]
  },
  {
   "cell_type": "code",
   "execution_count": 6,
   "metadata": {},
   "outputs": [],
   "source": [
    "df[dt.datetime(2018,7,6)] = 0\n",
    "df[dt.datetime(2018,8,23)] = 0\n",
    "df[dt.datetime(2018,9,24)] = 0\n",
    "df[dt.datetime(2019,6,1)] = 0\n",
    "df[dt.datetime(2019,9,1)] = 0\n",
    "df[dt.datetime(2020,2,14)] = 0"
   ]
  },
  {
   "cell_type": "markdown",
   "metadata": {},
   "source": [
    "---\n",
    "### MFN Rates\n",
    "\n",
    "It's amazing how complicated/hard it is to sort this out is. Here is an overview of data resources [https://www.usitc.gov/data/index.htm](https://www.usitc.gov/data/index.htm) Then at this site [https://www.usitc.gov/tariff_affairs/documents/tariff_data/tariff_data_2017.zip](https://www.usitc.gov/tariff_affairs/documents/tariff_data/tariff_data_2017.zip) is a zip file with HS8 codes and then the tariffs that each products faces. Side note: what is amazing is how a lot of the duties have piece rate components + ad valorum (like Crucini's stuff). \n",
    "\n",
    "The choice here will be to take the MFN ad valorum rate and go with that. One issue that arises with this is that some products have a value assigned to be 10,000. These appear to be products that are subject to quotas which superseade things. Will have to deal with this some how.\n",
    "\n",
    "Fortunatly, reading this in is straightforwad..."
   ]
  },
  {
   "cell_type": "code",
   "execution_count": 7,
   "metadata": {},
   "outputs": [],
   "source": [
    "file_path = \"./data/tariff_database_2017.xlsx\""
   ]
  },
  {
   "cell_type": "code",
   "execution_count": 8,
   "metadata": {},
   "outputs": [],
   "source": [
    "mfn_df = pd.read_excel(file_path, usecols = [\"hts8\", \"brief_description\", \"mfn_ad_val_rate\"], dtype = {\"hts8\": str})"
   ]
  },
  {
   "cell_type": "code",
   "execution_count": 9,
   "metadata": {},
   "outputs": [],
   "source": [
    "mfn_df.columns = [\"hs8\", \"description\", \"mfn_rate\"]"
   ]
  },
  {
   "cell_type": "code",
   "execution_count": 10,
   "metadata": {},
   "outputs": [],
   "source": [
    "mfn_df[\"mfn_rate\"] = 100*mfn_df[\"mfn_rate\"]"
   ]
  },
  {
   "cell_type": "code",
   "execution_count": 11,
   "metadata": {},
   "outputs": [
    {
     "data": {
      "text/html": [
       "<div>\n",
       "<style scoped>\n",
       "    .dataframe tbody tr th:only-of-type {\n",
       "        vertical-align: middle;\n",
       "    }\n",
       "\n",
       "    .dataframe tbody tr th {\n",
       "        vertical-align: top;\n",
       "    }\n",
       "\n",
       "    .dataframe thead th {\n",
       "        text-align: right;\n",
       "    }\n",
       "</style>\n",
       "<table border=\"1\" class=\"dataframe\">\n",
       "  <thead>\n",
       "    <tr style=\"text-align: right;\">\n",
       "      <th></th>\n",
       "      <th>hs8</th>\n",
       "      <th>description</th>\n",
       "      <th>mfn_rate</th>\n",
       "    </tr>\n",
       "  </thead>\n",
       "  <tbody>\n",
       "    <tr>\n",
       "      <th>0</th>\n",
       "      <td>01012100</td>\n",
       "      <td>Live purebred breeding horses</td>\n",
       "      <td>0.0</td>\n",
       "    </tr>\n",
       "    <tr>\n",
       "      <th>1</th>\n",
       "      <td>01012900</td>\n",
       "      <td>Live horses other than purebred breeding horses</td>\n",
       "      <td>0.0</td>\n",
       "    </tr>\n",
       "    <tr>\n",
       "      <th>2</th>\n",
       "      <td>01013000</td>\n",
       "      <td>Live asses</td>\n",
       "      <td>6.8</td>\n",
       "    </tr>\n",
       "    <tr>\n",
       "      <th>3</th>\n",
       "      <td>01019030</td>\n",
       "      <td>Mules and hinnies imported for immediate slaug...</td>\n",
       "      <td>0.0</td>\n",
       "    </tr>\n",
       "    <tr>\n",
       "      <th>4</th>\n",
       "      <td>01019040</td>\n",
       "      <td>Mules and hinnies not imported for immediate s...</td>\n",
       "      <td>4.5</td>\n",
       "    </tr>\n",
       "  </tbody>\n",
       "</table>\n",
       "</div>"
      ],
      "text/plain": [
       "        hs8                                        description  mfn_rate\n",
       "0  01012100                      Live purebred breeding horses       0.0\n",
       "1  01012900    Live horses other than purebred breeding horses       0.0\n",
       "2  01013000                                         Live asses       6.8\n",
       "3  01019030  Mules and hinnies imported for immediate slaug...       0.0\n",
       "4  01019040  Mules and hinnies not imported for immediate s...       4.5"
      ]
     },
     "execution_count": 11,
     "metadata": {},
     "output_type": "execute_result"
    }
   ],
   "source": [
    "mfn_df.head()"
   ]
  },
  {
   "cell_type": "code",
   "execution_count": 12,
   "metadata": {},
   "outputs": [],
   "source": [
    "mfn_df.loc[mfn_df.mfn_rate > 350, \"mfn_rate\"] = 0"
   ]
  },
  {
   "cell_type": "code",
   "execution_count": 13,
   "metadata": {},
   "outputs": [
    {
     "data": {
      "text/plain": [
       "350.0"
      ]
     },
     "execution_count": 13,
     "metadata": {},
     "output_type": "execute_result"
    }
   ],
   "source": [
    "mfn_df.mfn_rate.max()"
   ]
  },
  {
   "cell_type": "markdown",
   "metadata": {},
   "source": [
    "---\n",
    "### Maping HTS actions into tariffs...\n",
    "\n",
    "This took sometime to figure out. So in the China Tariff document, it has the following language:\n",
    "\n",
    "\"For reference, heading 9903.88.01 became effective on July 6, 2018, heading 9903.88.02 became effective on August 23, 2018, heading 9903.88.03 became effective on September 24, 2018, 9903.88.04 became effective on September 24, 2018, 9903.88.15 became effective on September 1, 2019, and 9903.88.16 is suspended pursuant to Federal Register notice of December 18, 2019 (84 FR 243)\"\n",
    "\n",
    "So this is how it is working. The Federal Register is publishing annexes undercertain headings, e.g. 9903.88.02. What is important, each one of these headings maps into a product code in the master document and the documents below describe the associated tariff rate and time of implementation. The US trade representative website has links to each register annoucment. Look here [https://ustr.gov/issue-areas/enforcement/section-301-investigations/tariff-actions](https://ustr.gov/issue-areas/enforcement/section-301-investigations/tariff-actions) which is the website associated with the 301 investigation into China.\n",
    "\n",
    "Below, I tracked down each action and the associated tariff change as posted in the register. So here is the outline and then assignment of the tariff."
   ]
  },
  {
   "cell_type": "markdown",
   "metadata": {},
   "source": [
    "---\n",
    "#### July 2018 Tariffs\n",
    "\n",
    "**Action 9903.88.01** (Also known as the 34 of 60 billion list, tariff is +25 percent): This is the first list action that took place on July 6, 2018, described [here](https://ustr.gov/issue-areas/enforcement/section-301-investigations/section-301-china/34-billion-trade-action) then to see how this is mapped via the federal register open [this document outlining stuff](https://ustr.gov/sites/default/files/2018-13248.pdf)"
   ]
  },
  {
   "cell_type": "code",
   "execution_count": 14,
   "metadata": {},
   "outputs": [],
   "source": [
    "tariff_dict.update({\"9903.88.01\": 25})\n",
    "\n",
    "df[dt.datetime(2018,7,6)] = df[\"Tariff_Action\"].map(tariff_dict)\n",
    "\n",
    "tariff_dict.update({\"9903.88.01\": 0})"
   ]
  },
  {
   "cell_type": "markdown",
   "metadata": {},
   "source": [
    "---\n",
    "#### August 2018 Tariffs\n",
    "\n",
    "**Action 9903.88.02** (This is the next 16 billion list, tariff is +25 percent): This is the next action taking place on [August 23, 2018](https://ustr.gov/issue-areas/enforcement/section-301-investigations/section-301-china/16-billion-trade-action) and again mapped via the federal register [here](https://ustr.gov/sites/default/files/enforcement/301Investigations/2018-17709.pdf)"
   ]
  },
  {
   "cell_type": "code",
   "execution_count": 15,
   "metadata": {},
   "outputs": [],
   "source": [
    "tariff_dict.update({\"9903.88.02\": 25})\n",
    "\n",
    "df[dt.datetime(2018,8,23)] = df[\"Tariff_Action\"].map(tariff_dict)\n",
    "\n",
    "tariff_dict.update({\"9903.88.02\": 0})"
   ]
  },
  {
   "cell_type": "markdown",
   "metadata": {},
   "source": [
    "---\n",
    "#### September 2018 (then June 2019) Tariffs\n",
    "\n",
    "**Actions 9903.88.03, 9903.88.04** (This is the 200 billiion list +10 percent on September 24 2018, +15 percent on June 2019): These two actions are taken together. Morover, this list is subject to futher actions. The first discussion is on [September 2018](https://ustr.gov/issue-areas/enforcement/section-301-investigations/section-301-china/200-billion-trade-action) and the initial action is the 10 percent under these two headings described [here](https://ustr.gov/sites/default/files/enforcement/301Investigations/83%20FR%2047974.pdf). The website describes how things changed over time. The key change is that [here](https://ustr.gov/sites/default/files/enforcement/301Investigations/84_FR_20459.pdf) for the June 2019 increase of these tariffs from 10 to 25 percent."
   ]
  },
  {
   "cell_type": "code",
   "execution_count": 16,
   "metadata": {},
   "outputs": [],
   "source": [
    "tariff_dict.update({\"9903.88.03\": 10, \"9903.88.04\": 10})\n",
    "# Looking through this, it appears the .04 action is at the 10 digit level, vs\n",
    "# the stuff being at 8 digit. \n",
    "\n",
    "df[dt.datetime(2018,9,24)] = df[\"Tariff_Action\"].map(tariff_dict)\n",
    "\n",
    "tariff_dict.update({\"9903.88.03\": 0, \"9903.88.04\": 0})"
   ]
  },
  {
   "cell_type": "code",
   "execution_count": 17,
   "metadata": {},
   "outputs": [],
   "source": [
    "tariff_dict.update({\"9903.88.03\": 15, \"9903.88.04\": 15})\n",
    "\n",
    "df[dt.datetime(2019,6,1)] = df[\"Tariff_Action\"].map(tariff_dict)\n",
    "\n",
    "tariff_dict.update({\"9903.88.03\": 0, \"9903.88.04\": 0})"
   ]
  },
  {
   "cell_type": "markdown",
   "metadata": {},
   "source": [
    "---\n",
    "\n",
    "#### September 2019 (Febuary 2020) Tariffs\n",
    "\n",
    "**Action 9903.88.15** (First part of the 300 billion list, +15 percent on September 1, 2019, 7.5 on): This was the big list that would cover eveything and annouced [here](https://ustr.gov/issue-areas/enforcement/section-301-investigations/section-301-china/300-billion-trade-action). [Initially it was at 10 percent](https://ustr.gov/sites/default/files/enforcement/301Investigations/Notice_of_Modification_%28List_4A_and_List_4B%29.pdf), but then went to [15 percent](https://ustr.gov/sites/default/files/enforcement/301Investigations/Notice_of_Modification%E2%80%93August_2019.pdf) and implemented on Steptember 2019. [These were then reduced to 7.5 percent](https://ustr.gov/sites/default/files/enforcement/301Investigations/Notice_of_Modification-January_2020.pdf) on January 2020"
   ]
  },
  {
   "cell_type": "code",
   "execution_count": 18,
   "metadata": {},
   "outputs": [],
   "source": [
    "tariff_dict.update({\"9903.88.15\": 15})\n",
    "\n",
    "df[dt.datetime(2019,9,1)] = df[\"Tariff_Action\"].map(tariff_dict)\n",
    "\n",
    "tariff_dict.update({\"9903.88.15\": 0})"
   ]
  },
  {
   "cell_type": "code",
   "execution_count": 19,
   "metadata": {},
   "outputs": [],
   "source": [
    "tariff_dict.update({\"9903.88.15\": -7.5})\n",
    "\n",
    "df[dt.datetime(2020,2,14)] = df[\"Tariff_Action\"].map(tariff_dict)\n",
    "\n",
    "tariff_dict.update({\"9903.88.15\": 0})"
   ]
  },
  {
   "cell_type": "markdown",
   "metadata": {},
   "source": [
    "---\n",
    "#### December 2019 Tariffs (Not implemented)\n",
    "\n",
    "**9903.88.16** (Second part of the 300 billion list): This list was annouced with the \".15\" list, but not to go into action untill December 18, 2019. See the back (page 141) of the [federal register notice](https://ustr.gov/sites/default/files/enforcement/301Investigations/Notice_of_Modification_%28List_4A_and_List_4B%29.pdf). [It was eventually suspended and not put in place.](https://ustr.gov/sites/default/files/enforcement/301Investigations/Notice_of_Modification%E2%80%93December_2019.pdf)"
   ]
  },
  {
   "cell_type": "markdown",
   "metadata": {},
   "source": [
    "### Cleaning and Organizing\n",
    "\n",
    "Now that we have the tariffs by time by product, we will just clean things up to conform with the way we want to use it later"
   ]
  },
  {
   "cell_type": "code",
   "execution_count": 20,
   "metadata": {},
   "outputs": [
    {
     "data": {
      "text/html": [
       "<div>\n",
       "<style scoped>\n",
       "    .dataframe tbody tr th:only-of-type {\n",
       "        vertical-align: middle;\n",
       "    }\n",
       "\n",
       "    .dataframe tbody tr th {\n",
       "        vertical-align: top;\n",
       "    }\n",
       "\n",
       "    .dataframe thead th {\n",
       "        text-align: right;\n",
       "    }\n",
       "</style>\n",
       "<table border=\"1\" class=\"dataframe\">\n",
       "  <thead>\n",
       "    <tr style=\"text-align: right;\">\n",
       "      <th></th>\n",
       "      <th>hs8</th>\n",
       "      <th>2018-07-06 00:00:00</th>\n",
       "      <th>2018-08-23 00:00:00</th>\n",
       "      <th>2018-09-24 00:00:00</th>\n",
       "      <th>2019-06-01 00:00:00</th>\n",
       "      <th>2019-09-01 00:00:00</th>\n",
       "      <th>2020-02-14 00:00:00</th>\n",
       "      <th>hs6</th>\n",
       "    </tr>\n",
       "  </thead>\n",
       "  <tbody>\n",
       "    <tr>\n",
       "      <th>0</th>\n",
       "      <td>01012100</td>\n",
       "      <td>0</td>\n",
       "      <td>0</td>\n",
       "      <td>0</td>\n",
       "      <td>0</td>\n",
       "      <td>15</td>\n",
       "      <td>-7.5</td>\n",
       "      <td>010121</td>\n",
       "    </tr>\n",
       "    <tr>\n",
       "      <th>1</th>\n",
       "      <td>01012900</td>\n",
       "      <td>0</td>\n",
       "      <td>0</td>\n",
       "      <td>0</td>\n",
       "      <td>0</td>\n",
       "      <td>15</td>\n",
       "      <td>-7.5</td>\n",
       "      <td>010129</td>\n",
       "    </tr>\n",
       "    <tr>\n",
       "      <th>2</th>\n",
       "      <td>01013000</td>\n",
       "      <td>0</td>\n",
       "      <td>0</td>\n",
       "      <td>0</td>\n",
       "      <td>0</td>\n",
       "      <td>15</td>\n",
       "      <td>-7.5</td>\n",
       "      <td>010130</td>\n",
       "    </tr>\n",
       "    <tr>\n",
       "      <th>3</th>\n",
       "      <td>01019030</td>\n",
       "      <td>0</td>\n",
       "      <td>0</td>\n",
       "      <td>0</td>\n",
       "      <td>0</td>\n",
       "      <td>15</td>\n",
       "      <td>-7.5</td>\n",
       "      <td>010190</td>\n",
       "    </tr>\n",
       "    <tr>\n",
       "      <th>4</th>\n",
       "      <td>01019040</td>\n",
       "      <td>0</td>\n",
       "      <td>0</td>\n",
       "      <td>0</td>\n",
       "      <td>0</td>\n",
       "      <td>15</td>\n",
       "      <td>-7.5</td>\n",
       "      <td>010190</td>\n",
       "    </tr>\n",
       "  </tbody>\n",
       "</table>\n",
       "</div>"
      ],
      "text/plain": [
       "        hs8  2018-07-06 00:00:00  2018-08-23 00:00:00  2018-09-24 00:00:00  \\\n",
       "0  01012100                    0                    0                    0   \n",
       "1  01012900                    0                    0                    0   \n",
       "2  01013000                    0                    0                    0   \n",
       "3  01019030                    0                    0                    0   \n",
       "4  01019040                    0                    0                    0   \n",
       "\n",
       "   2019-06-01 00:00:00  2019-09-01 00:00:00  2020-02-14 00:00:00     hs6  \n",
       "0                    0                   15                 -7.5  010121  \n",
       "1                    0                   15                 -7.5  010129  \n",
       "2                    0                   15                 -7.5  010130  \n",
       "3                    0                   15                 -7.5  010190  \n",
       "4                    0                   15                 -7.5  010190  "
      ]
     },
     "execution_count": 20,
     "metadata": {},
     "output_type": "execute_result"
    }
   ],
   "source": [
    "df.drop(labels = \"Tariff_Action\", axis = 1, inplace = True)\n",
    "\n",
    "df[\"hs8\"] = df.hs8.str.replace(\".\",\"\")\n",
    "\n",
    "df[\"hs6\"] = df.hs8.str[0:6]\n",
    "\n",
    "df.head()"
   ]
  },
  {
   "cell_type": "markdown",
   "metadata": {},
   "source": [
    "Now let's merge this with the mfn rates so we have the initial starting point..."
   ]
  },
  {
   "cell_type": "code",
   "execution_count": 21,
   "metadata": {},
   "outputs": [],
   "source": [
    "df = df.merge(mfn_df, left_on = \"hs8\", right_on = \"hs8\", how = \"left\")"
   ]
  },
  {
   "cell_type": "code",
   "execution_count": 22,
   "metadata": {},
   "outputs": [],
   "source": [
    "df.rename(mapper = {\"mfn_rate\":dt.datetime(2018,1,1)}, axis = 1, inplace = True)"
   ]
  },
  {
   "cell_type": "code",
   "execution_count": 23,
   "metadata": {},
   "outputs": [],
   "source": [
    "col_org = [\"hs8\", dt.datetime(2018,1,1), dt.datetime(2018,7,6), dt.datetime(2018,8,23), dt.datetime(2018,9,24), \n",
    "dt.datetime(2019,6,1), \n",
    "dt.datetime(2019,9,1), \n",
    "dt.datetime(2020,2,14), \"hs6\", \"description\"]\n",
    "\n",
    "df = df[col_org]"
   ]
  },
  {
   "cell_type": "code",
   "execution_count": 24,
   "metadata": {},
   "outputs": [
    {
     "data": {
      "text/html": [
       "<div>\n",
       "<style scoped>\n",
       "    .dataframe tbody tr th:only-of-type {\n",
       "        vertical-align: middle;\n",
       "    }\n",
       "\n",
       "    .dataframe tbody tr th {\n",
       "        vertical-align: top;\n",
       "    }\n",
       "\n",
       "    .dataframe thead th {\n",
       "        text-align: right;\n",
       "    }\n",
       "</style>\n",
       "<table border=\"1\" class=\"dataframe\">\n",
       "  <thead>\n",
       "    <tr style=\"text-align: right;\">\n",
       "      <th></th>\n",
       "      <th>hs8</th>\n",
       "      <th>2018-01-01 00:00:00</th>\n",
       "      <th>2018-07-06 00:00:00</th>\n",
       "      <th>2018-08-23 00:00:00</th>\n",
       "      <th>2018-09-24 00:00:00</th>\n",
       "      <th>2019-06-01 00:00:00</th>\n",
       "      <th>2019-09-01 00:00:00</th>\n",
       "      <th>2020-02-14 00:00:00</th>\n",
       "      <th>hs6</th>\n",
       "      <th>description</th>\n",
       "    </tr>\n",
       "  </thead>\n",
       "  <tbody>\n",
       "    <tr>\n",
       "      <th>0</th>\n",
       "      <td>01012100</td>\n",
       "      <td>0.0</td>\n",
       "      <td>0</td>\n",
       "      <td>0</td>\n",
       "      <td>0</td>\n",
       "      <td>0</td>\n",
       "      <td>15</td>\n",
       "      <td>-7.5</td>\n",
       "      <td>010121</td>\n",
       "      <td>Live purebred breeding horses</td>\n",
       "    </tr>\n",
       "    <tr>\n",
       "      <th>1</th>\n",
       "      <td>01012900</td>\n",
       "      <td>0.0</td>\n",
       "      <td>0</td>\n",
       "      <td>0</td>\n",
       "      <td>0</td>\n",
       "      <td>0</td>\n",
       "      <td>15</td>\n",
       "      <td>-7.5</td>\n",
       "      <td>010129</td>\n",
       "      <td>Live horses other than purebred breeding horses</td>\n",
       "    </tr>\n",
       "    <tr>\n",
       "      <th>2</th>\n",
       "      <td>01013000</td>\n",
       "      <td>6.8</td>\n",
       "      <td>0</td>\n",
       "      <td>0</td>\n",
       "      <td>0</td>\n",
       "      <td>0</td>\n",
       "      <td>15</td>\n",
       "      <td>-7.5</td>\n",
       "      <td>010130</td>\n",
       "      <td>Live asses</td>\n",
       "    </tr>\n",
       "    <tr>\n",
       "      <th>3</th>\n",
       "      <td>01019030</td>\n",
       "      <td>0.0</td>\n",
       "      <td>0</td>\n",
       "      <td>0</td>\n",
       "      <td>0</td>\n",
       "      <td>0</td>\n",
       "      <td>15</td>\n",
       "      <td>-7.5</td>\n",
       "      <td>010190</td>\n",
       "      <td>Mules and hinnies imported for immediate slaug...</td>\n",
       "    </tr>\n",
       "    <tr>\n",
       "      <th>4</th>\n",
       "      <td>01019040</td>\n",
       "      <td>4.5</td>\n",
       "      <td>0</td>\n",
       "      <td>0</td>\n",
       "      <td>0</td>\n",
       "      <td>0</td>\n",
       "      <td>15</td>\n",
       "      <td>-7.5</td>\n",
       "      <td>010190</td>\n",
       "      <td>Mules and hinnies not imported for immediate s...</td>\n",
       "    </tr>\n",
       "  </tbody>\n",
       "</table>\n",
       "</div>"
      ],
      "text/plain": [
       "        hs8  2018-01-01 00:00:00  2018-07-06 00:00:00  2018-08-23 00:00:00  \\\n",
       "0  01012100                  0.0                    0                    0   \n",
       "1  01012900                  0.0                    0                    0   \n",
       "2  01013000                  6.8                    0                    0   \n",
       "3  01019030                  0.0                    0                    0   \n",
       "4  01019040                  4.5                    0                    0   \n",
       "\n",
       "   2018-09-24 00:00:00  2019-06-01 00:00:00  2019-09-01 00:00:00  \\\n",
       "0                    0                    0                   15   \n",
       "1                    0                    0                   15   \n",
       "2                    0                    0                   15   \n",
       "3                    0                    0                   15   \n",
       "4                    0                    0                   15   \n",
       "\n",
       "   2020-02-14 00:00:00     hs6  \\\n",
       "0                 -7.5  010121   \n",
       "1                 -7.5  010129   \n",
       "2                 -7.5  010130   \n",
       "3                 -7.5  010190   \n",
       "4                 -7.5  010190   \n",
       "\n",
       "                                         description  \n",
       "0                      Live purebred breeding horses  \n",
       "1    Live horses other than purebred breeding horses  \n",
       "2                                         Live asses  \n",
       "3  Mules and hinnies imported for immediate slaug...  \n",
       "4  Mules and hinnies not imported for immediate s...  "
      ]
     },
     "execution_count": 24,
     "metadata": {},
     "output_type": "execute_result"
    }
   ],
   "source": [
    "df.head()"
   ]
  },
  {
   "cell_type": "markdown",
   "metadata": {},
   "source": [
    "Now I will melt the dataframe to make it long. Groupby hs8 code and take the cummulative sum of the \"value\" in the dataframe. This will give the level of the tariff rate and how it changes by time."
   ]
  },
  {
   "cell_type": "code",
   "execution_count": 25,
   "metadata": {},
   "outputs": [],
   "source": [
    "df = df.melt(id_vars = [\"hs8\", \"hs6\", \"description\"])\n",
    "\n",
    "df.rename(columns = {\"variable\": \"time_of_tariff\"}, inplace = True)\n",
    "\n",
    "df['tariff'] = df.groupby(['hs8'])['value'].apply(lambda x: x.cumsum())"
   ]
  },
  {
   "cell_type": "code",
   "execution_count": 26,
   "metadata": {},
   "outputs": [
    {
     "data": {
      "text/html": [
       "<div>\n",
       "<style scoped>\n",
       "    .dataframe tbody tr th:only-of-type {\n",
       "        vertical-align: middle;\n",
       "    }\n",
       "\n",
       "    .dataframe tbody tr th {\n",
       "        vertical-align: top;\n",
       "    }\n",
       "\n",
       "    .dataframe thead th {\n",
       "        text-align: right;\n",
       "    }\n",
       "</style>\n",
       "<table border=\"1\" class=\"dataframe\">\n",
       "  <thead>\n",
       "    <tr style=\"text-align: right;\">\n",
       "      <th></th>\n",
       "      <th>hs8</th>\n",
       "      <th>hs6</th>\n",
       "      <th>description</th>\n",
       "      <th>time_of_tariff</th>\n",
       "      <th>value</th>\n",
       "      <th>tariff</th>\n",
       "    </tr>\n",
       "  </thead>\n",
       "  <tbody>\n",
       "    <tr>\n",
       "      <th>0</th>\n",
       "      <td>01012100</td>\n",
       "      <td>010121</td>\n",
       "      <td>Live purebred breeding horses</td>\n",
       "      <td>2018-01-01</td>\n",
       "      <td>0.0</td>\n",
       "      <td>0.0</td>\n",
       "    </tr>\n",
       "    <tr>\n",
       "      <th>1</th>\n",
       "      <td>01012900</td>\n",
       "      <td>010129</td>\n",
       "      <td>Live horses other than purebred breeding horses</td>\n",
       "      <td>2018-01-01</td>\n",
       "      <td>0.0</td>\n",
       "      <td>0.0</td>\n",
       "    </tr>\n",
       "    <tr>\n",
       "      <th>2</th>\n",
       "      <td>01013000</td>\n",
       "      <td>010130</td>\n",
       "      <td>Live asses</td>\n",
       "      <td>2018-01-01</td>\n",
       "      <td>6.8</td>\n",
       "      <td>6.8</td>\n",
       "    </tr>\n",
       "    <tr>\n",
       "      <th>3</th>\n",
       "      <td>01019030</td>\n",
       "      <td>010190</td>\n",
       "      <td>Mules and hinnies imported for immediate slaug...</td>\n",
       "      <td>2018-01-01</td>\n",
       "      <td>0.0</td>\n",
       "      <td>0.0</td>\n",
       "    </tr>\n",
       "    <tr>\n",
       "      <th>4</th>\n",
       "      <td>01019040</td>\n",
       "      <td>010190</td>\n",
       "      <td>Mules and hinnies not imported for immediate s...</td>\n",
       "      <td>2018-01-01</td>\n",
       "      <td>4.5</td>\n",
       "      <td>4.5</td>\n",
       "    </tr>\n",
       "  </tbody>\n",
       "</table>\n",
       "</div>"
      ],
      "text/plain": [
       "        hs8     hs6                                        description  \\\n",
       "0  01012100  010121                      Live purebred breeding horses   \n",
       "1  01012900  010129    Live horses other than purebred breeding horses   \n",
       "2  01013000  010130                                         Live asses   \n",
       "3  01019030  010190  Mules and hinnies imported for immediate slaug...   \n",
       "4  01019040  010190  Mules and hinnies not imported for immediate s...   \n",
       "\n",
       "  time_of_tariff  value  tariff  \n",
       "0     2018-01-01    0.0     0.0  \n",
       "1     2018-01-01    0.0     0.0  \n",
       "2     2018-01-01    6.8     6.8  \n",
       "3     2018-01-01    0.0     0.0  \n",
       "4     2018-01-01    4.5     4.5  "
      ]
     },
     "execution_count": 26,
     "metadata": {},
     "output_type": "execute_result"
    }
   ],
   "source": [
    "df.head()"
   ]
  },
  {
   "cell_type": "code",
   "execution_count": 27,
   "metadata": {},
   "outputs": [
    {
     "data": {
      "text/html": [
       "<div>\n",
       "<style scoped>\n",
       "    .dataframe tbody tr th:only-of-type {\n",
       "        vertical-align: middle;\n",
       "    }\n",
       "\n",
       "    .dataframe tbody tr th {\n",
       "        vertical-align: top;\n",
       "    }\n",
       "\n",
       "    .dataframe thead th {\n",
       "        text-align: right;\n",
       "    }\n",
       "</style>\n",
       "<table border=\"1\" class=\"dataframe\">\n",
       "  <thead>\n",
       "    <tr style=\"text-align: right;\">\n",
       "      <th></th>\n",
       "      <th>hs8</th>\n",
       "      <th>hs6</th>\n",
       "      <th>description</th>\n",
       "      <th>time_of_tariff</th>\n",
       "      <th>value</th>\n",
       "      <th>tariff</th>\n",
       "    </tr>\n",
       "  </thead>\n",
       "  <tbody>\n",
       "    <tr>\n",
       "      <th>2</th>\n",
       "      <td>01013000</td>\n",
       "      <td>010130</td>\n",
       "      <td>Live asses</td>\n",
       "      <td>2018-01-01</td>\n",
       "      <td>6.8</td>\n",
       "      <td>6.8</td>\n",
       "    </tr>\n",
       "    <tr>\n",
       "      <th>10445</th>\n",
       "      <td>01013000</td>\n",
       "      <td>010130</td>\n",
       "      <td>Live asses</td>\n",
       "      <td>2018-07-06</td>\n",
       "      <td>0.0</td>\n",
       "      <td>6.8</td>\n",
       "    </tr>\n",
       "    <tr>\n",
       "      <th>20888</th>\n",
       "      <td>01013000</td>\n",
       "      <td>010130</td>\n",
       "      <td>Live asses</td>\n",
       "      <td>2018-08-23</td>\n",
       "      <td>0.0</td>\n",
       "      <td>6.8</td>\n",
       "    </tr>\n",
       "    <tr>\n",
       "      <th>31331</th>\n",
       "      <td>01013000</td>\n",
       "      <td>010130</td>\n",
       "      <td>Live asses</td>\n",
       "      <td>2018-09-24</td>\n",
       "      <td>0.0</td>\n",
       "      <td>6.8</td>\n",
       "    </tr>\n",
       "    <tr>\n",
       "      <th>41774</th>\n",
       "      <td>01013000</td>\n",
       "      <td>010130</td>\n",
       "      <td>Live asses</td>\n",
       "      <td>2019-06-01</td>\n",
       "      <td>0.0</td>\n",
       "      <td>6.8</td>\n",
       "    </tr>\n",
       "    <tr>\n",
       "      <th>52217</th>\n",
       "      <td>01013000</td>\n",
       "      <td>010130</td>\n",
       "      <td>Live asses</td>\n",
       "      <td>2019-09-01</td>\n",
       "      <td>15.0</td>\n",
       "      <td>21.8</td>\n",
       "    </tr>\n",
       "    <tr>\n",
       "      <th>62660</th>\n",
       "      <td>01013000</td>\n",
       "      <td>010130</td>\n",
       "      <td>Live asses</td>\n",
       "      <td>2020-02-14</td>\n",
       "      <td>-7.5</td>\n",
       "      <td>14.3</td>\n",
       "    </tr>\n",
       "  </tbody>\n",
       "</table>\n",
       "</div>"
      ],
      "text/plain": [
       "            hs8     hs6 description time_of_tariff  value  tariff\n",
       "2      01013000  010130  Live asses     2018-01-01    6.8     6.8\n",
       "10445  01013000  010130  Live asses     2018-07-06    0.0     6.8\n",
       "20888  01013000  010130  Live asses     2018-08-23    0.0     6.8\n",
       "31331  01013000  010130  Live asses     2018-09-24    0.0     6.8\n",
       "41774  01013000  010130  Live asses     2019-06-01    0.0     6.8\n",
       "52217  01013000  010130  Live asses     2019-09-01   15.0    21.8\n",
       "62660  01013000  010130  Live asses     2020-02-14   -7.5    14.3"
      ]
     },
     "execution_count": 27,
     "metadata": {},
     "output_type": "execute_result"
    }
   ],
   "source": [
    "hs_grp = df.groupby([\"hs6\"])\n",
    "\n",
    "hs_grp.get_group((\"010130\"))"
   ]
  },
  {
   "cell_type": "markdown",
   "metadata": {},
   "source": [
    "Choices. Now the issue is that we want to go down to the 6 level. So the solution will be the following. We will try a couple of different aggregations and see if it matters. Note that it appears that the Tariff Retaliation was at the 6 digit level (as there is no variation in tariffs across products within the 6 digit level). What variation this is missing is the initial level which (sometimes) does vary within products. "
   ]
  },
  {
   "cell_type": "code",
   "execution_count": 28,
   "metadata": {},
   "outputs": [],
   "source": [
    "us_tariffs_hs6 = df.groupby([\"hs6\", \"time_of_tariff\"]).agg({\"tariff\": \"max\", \"description\": \"first\"})"
   ]
  },
  {
   "cell_type": "code",
   "execution_count": 29,
   "metadata": {},
   "outputs": [],
   "source": [
    "us_tariffs_hs6.reset_index(inplace = True)"
   ]
  },
  {
   "cell_type": "code",
   "execution_count": 30,
   "metadata": {},
   "outputs": [
    {
     "data": {
      "text/html": [
       "<div>\n",
       "<style scoped>\n",
       "    .dataframe tbody tr th:only-of-type {\n",
       "        vertical-align: middle;\n",
       "    }\n",
       "\n",
       "    .dataframe tbody tr th {\n",
       "        vertical-align: top;\n",
       "    }\n",
       "\n",
       "    .dataframe thead th {\n",
       "        text-align: right;\n",
       "    }\n",
       "</style>\n",
       "<table border=\"1\" class=\"dataframe\">\n",
       "  <thead>\n",
       "    <tr style=\"text-align: right;\">\n",
       "      <th></th>\n",
       "      <th>hs6</th>\n",
       "      <th>time_of_tariff</th>\n",
       "      <th>tariff</th>\n",
       "      <th>description</th>\n",
       "    </tr>\n",
       "  </thead>\n",
       "  <tbody>\n",
       "    <tr>\n",
       "      <th>315</th>\n",
       "      <td>020329</td>\n",
       "      <td>2018-01-01</td>\n",
       "      <td>0.0</td>\n",
       "      <td>Frozen retail cuts of meat of swine, nesi</td>\n",
       "    </tr>\n",
       "    <tr>\n",
       "      <th>316</th>\n",
       "      <td>020329</td>\n",
       "      <td>2018-07-06</td>\n",
       "      <td>0.0</td>\n",
       "      <td>Frozen retail cuts of meat of swine, nesi</td>\n",
       "    </tr>\n",
       "    <tr>\n",
       "      <th>317</th>\n",
       "      <td>020329</td>\n",
       "      <td>2018-08-23</td>\n",
       "      <td>0.0</td>\n",
       "      <td>Frozen retail cuts of meat of swine, nesi</td>\n",
       "    </tr>\n",
       "    <tr>\n",
       "      <th>318</th>\n",
       "      <td>020329</td>\n",
       "      <td>2018-09-24</td>\n",
       "      <td>10.0</td>\n",
       "      <td>Frozen retail cuts of meat of swine, nesi</td>\n",
       "    </tr>\n",
       "    <tr>\n",
       "      <th>319</th>\n",
       "      <td>020329</td>\n",
       "      <td>2019-06-01</td>\n",
       "      <td>25.0</td>\n",
       "      <td>Frozen retail cuts of meat of swine, nesi</td>\n",
       "    </tr>\n",
       "    <tr>\n",
       "      <th>320</th>\n",
       "      <td>020329</td>\n",
       "      <td>2019-09-01</td>\n",
       "      <td>25.0</td>\n",
       "      <td>Frozen retail cuts of meat of swine, nesi</td>\n",
       "    </tr>\n",
       "    <tr>\n",
       "      <th>321</th>\n",
       "      <td>020329</td>\n",
       "      <td>2020-02-14</td>\n",
       "      <td>25.0</td>\n",
       "      <td>Frozen retail cuts of meat of swine, nesi</td>\n",
       "    </tr>\n",
       "  </tbody>\n",
       "</table>\n",
       "</div>"
      ],
      "text/plain": [
       "        hs6 time_of_tariff  tariff                                description\n",
       "315  020329     2018-01-01     0.0  Frozen retail cuts of meat of swine, nesi\n",
       "316  020329     2018-07-06     0.0  Frozen retail cuts of meat of swine, nesi\n",
       "317  020329     2018-08-23     0.0  Frozen retail cuts of meat of swine, nesi\n",
       "318  020329     2018-09-24    10.0  Frozen retail cuts of meat of swine, nesi\n",
       "319  020329     2019-06-01    25.0  Frozen retail cuts of meat of swine, nesi\n",
       "320  020329     2019-09-01    25.0  Frozen retail cuts of meat of swine, nesi\n",
       "321  020329     2020-02-14    25.0  Frozen retail cuts of meat of swine, nesi"
      ]
     },
     "execution_count": 30,
     "metadata": {},
     "output_type": "execute_result"
    }
   ],
   "source": [
    "us_tariffs_hs6[us_tariffs_hs6.hs6 == \"020329\"]"
   ]
  },
  {
   "cell_type": "code",
   "execution_count": 31,
   "metadata": {},
   "outputs": [
    {
     "data": {
      "text/plain": [
       "time_of_tariff\n",
       "2018-01-01     2.7\n",
       "2018-07-06     3.7\n",
       "2018-08-23     3.7\n",
       "2018-09-24    12.5\n",
       "2019-06-01    25.0\n",
       "2019-09-01    25.0\n",
       "2020-02-14    25.0\n",
       "Name: tariff, dtype: float64"
      ]
     },
     "execution_count": 31,
     "metadata": {},
     "output_type": "execute_result"
    }
   ],
   "source": [
    "us_tariffs_hs6.groupby([\"time_of_tariff\"]).tariff.median()"
   ]
  },
  {
   "cell_type": "code",
   "execution_count": 32,
   "metadata": {},
   "outputs": [],
   "source": [
    "us_tariffs_hs6.to_csv(\".\\\\data\"+ \"\\\\us_tariffs_2020.csv\",index = False)"
   ]
  },
  {
   "cell_type": "code",
   "execution_count": 35,
   "metadata": {},
   "outputs": [],
   "source": [
    "test = pd.read_csv(\".\\\\data\"+ \"\\\\us_tariffs_2020.csv\", dtype = {\"hs6\": str})"
   ]
  },
  {
   "cell_type": "code",
   "execution_count": 36,
   "metadata": {},
   "outputs": [
    {
     "data": {
      "text/html": [
       "<div>\n",
       "<style scoped>\n",
       "    .dataframe tbody tr th:only-of-type {\n",
       "        vertical-align: middle;\n",
       "    }\n",
       "\n",
       "    .dataframe tbody tr th {\n",
       "        vertical-align: top;\n",
       "    }\n",
       "\n",
       "    .dataframe thead th {\n",
       "        text-align: right;\n",
       "    }\n",
       "</style>\n",
       "<table border=\"1\" class=\"dataframe\">\n",
       "  <thead>\n",
       "    <tr style=\"text-align: right;\">\n",
       "      <th></th>\n",
       "      <th>hs6</th>\n",
       "      <th>time_of_tariff</th>\n",
       "      <th>tariff</th>\n",
       "      <th>description</th>\n",
       "    </tr>\n",
       "  </thead>\n",
       "  <tbody>\n",
       "    <tr>\n",
       "      <th>0</th>\n",
       "      <td>010121</td>\n",
       "      <td>2018-01-01</td>\n",
       "      <td>0.0</td>\n",
       "      <td>Live purebred breeding horses</td>\n",
       "    </tr>\n",
       "    <tr>\n",
       "      <th>1</th>\n",
       "      <td>010121</td>\n",
       "      <td>2018-07-06</td>\n",
       "      <td>0.0</td>\n",
       "      <td>Live purebred breeding horses</td>\n",
       "    </tr>\n",
       "    <tr>\n",
       "      <th>2</th>\n",
       "      <td>010121</td>\n",
       "      <td>2018-08-23</td>\n",
       "      <td>0.0</td>\n",
       "      <td>Live purebred breeding horses</td>\n",
       "    </tr>\n",
       "    <tr>\n",
       "      <th>3</th>\n",
       "      <td>010121</td>\n",
       "      <td>2018-09-24</td>\n",
       "      <td>0.0</td>\n",
       "      <td>Live purebred breeding horses</td>\n",
       "    </tr>\n",
       "    <tr>\n",
       "      <th>4</th>\n",
       "      <td>010121</td>\n",
       "      <td>2019-06-01</td>\n",
       "      <td>0.0</td>\n",
       "      <td>Live purebred breeding horses</td>\n",
       "    </tr>\n",
       "  </tbody>\n",
       "</table>\n",
       "</div>"
      ],
      "text/plain": [
       "      hs6 time_of_tariff  tariff                    description\n",
       "0  010121     2018-01-01     0.0  Live purebred breeding horses\n",
       "1  010121     2018-07-06     0.0  Live purebred breeding horses\n",
       "2  010121     2018-08-23     0.0  Live purebred breeding horses\n",
       "3  010121     2018-09-24     0.0  Live purebred breeding horses\n",
       "4  010121     2019-06-01     0.0  Live purebred breeding horses"
      ]
     },
     "execution_count": 36,
     "metadata": {},
     "output_type": "execute_result"
    }
   ],
   "source": [
    "test.head()"
   ]
  },
  {
   "cell_type": "code",
   "execution_count": null,
   "metadata": {},
   "outputs": [],
   "source": []
  }
 ],
 "metadata": {
  "kernelspec": {
   "display_name": "Python 3",
   "language": "python",
   "name": "python3"
  },
  "language_info": {
   "codemirror_mode": {
    "name": "ipython",
    "version": 3
   },
   "file_extension": ".py",
   "mimetype": "text/x-python",
   "name": "python",
   "nbconvert_exporter": "python",
   "pygments_lexer": "ipython3",
   "version": "3.7.3"
  }
 },
 "nbformat": 4,
 "nbformat_minor": 4
}
